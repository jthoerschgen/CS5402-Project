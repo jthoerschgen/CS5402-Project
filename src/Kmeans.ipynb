{
 "cells": [
  {
   "cell_type": "code",
   "id": "initial_id",
   "metadata": {
    "collapsed": true,
    "ExecuteTime": {
     "end_time": "2025-05-05T02:30:56.208807Z",
     "start_time": "2025-05-05T02:30:54.436485Z"
    }
   },
   "source": [
    "import pandas as pd\n",
    "import numpy as np"
   ],
   "outputs": [],
   "execution_count": 2
  },
  {
   "metadata": {
    "ExecuteTime": {
     "end_time": "2025-05-05T02:30:57.191382Z",
     "start_time": "2025-05-05T02:30:56.208807Z"
    }
   },
   "cell_type": "code",
   "source": [
    "data: pd.DataFrame = pd.read_csv(\"../creditcard.csv\")\n",
    "data[\"Class\"] = np.where(data[\"Class\"] <= 0, 0, 1)\n",
    "\n",
    "data.shape\n"
   ],
   "id": "57c59465827641ee",
   "outputs": [
    {
     "data": {
      "text/plain": [
       "(284807, 31)"
      ]
     },
     "execution_count": 3,
     "metadata": {},
     "output_type": "execute_result"
    }
   ],
   "execution_count": 3
  },
  {
   "metadata": {
    "ExecuteTime": {
     "end_time": "2025-05-05T02:30:57.219084Z",
     "start_time": "2025-05-05T02:30:57.205124Z"
    }
   },
   "cell_type": "code",
   "source": "data.head()",
   "id": "ed5d238354ec0e6f",
   "outputs": [
    {
     "data": {
      "text/plain": [
       "   Time        V1        V2        V3        V4        V5        V6        V7  \\\n",
       "0   0.0 -1.359807 -0.072781  2.536347  1.378155 -0.338321  0.462388  0.239599   \n",
       "1   0.0  1.191857  0.266151  0.166480  0.448154  0.060018 -0.082361 -0.078803   \n",
       "2   1.0 -1.358354 -1.340163  1.773209  0.379780 -0.503198  1.800499  0.791461   \n",
       "3   1.0 -0.966272 -0.185226  1.792993 -0.863291 -0.010309  1.247203  0.237609   \n",
       "4   2.0 -1.158233  0.877737  1.548718  0.403034 -0.407193  0.095921  0.592941   \n",
       "\n",
       "         V8        V9  ...       V21       V22       V23       V24       V25  \\\n",
       "0  0.098698  0.363787  ... -0.018307  0.277838 -0.110474  0.066928  0.128539   \n",
       "1  0.085102 -0.255425  ... -0.225775 -0.638672  0.101288 -0.339846  0.167170   \n",
       "2  0.247676 -1.514654  ...  0.247998  0.771679  0.909412 -0.689281 -0.327642   \n",
       "3  0.377436 -1.387024  ... -0.108300  0.005274 -0.190321 -1.175575  0.647376   \n",
       "4 -0.270533  0.817739  ... -0.009431  0.798278 -0.137458  0.141267 -0.206010   \n",
       "\n",
       "        V26       V27       V28  Amount  Class  \n",
       "0 -0.189115  0.133558 -0.021053  149.62      0  \n",
       "1  0.125895 -0.008983  0.014724    2.69      0  \n",
       "2 -0.139097 -0.055353 -0.059752  378.66      0  \n",
       "3 -0.221929  0.062723  0.061458  123.50      0  \n",
       "4  0.502292  0.219422  0.215153   69.99      0  \n",
       "\n",
       "[5 rows x 31 columns]"
      ],
      "text/html": [
       "<div>\n",
       "<style scoped>\n",
       "    .dataframe tbody tr th:only-of-type {\n",
       "        vertical-align: middle;\n",
       "    }\n",
       "\n",
       "    .dataframe tbody tr th {\n",
       "        vertical-align: top;\n",
       "    }\n",
       "\n",
       "    .dataframe thead th {\n",
       "        text-align: right;\n",
       "    }\n",
       "</style>\n",
       "<table border=\"1\" class=\"dataframe\">\n",
       "  <thead>\n",
       "    <tr style=\"text-align: right;\">\n",
       "      <th></th>\n",
       "      <th>Time</th>\n",
       "      <th>V1</th>\n",
       "      <th>V2</th>\n",
       "      <th>V3</th>\n",
       "      <th>V4</th>\n",
       "      <th>V5</th>\n",
       "      <th>V6</th>\n",
       "      <th>V7</th>\n",
       "      <th>V8</th>\n",
       "      <th>V9</th>\n",
       "      <th>...</th>\n",
       "      <th>V21</th>\n",
       "      <th>V22</th>\n",
       "      <th>V23</th>\n",
       "      <th>V24</th>\n",
       "      <th>V25</th>\n",
       "      <th>V26</th>\n",
       "      <th>V27</th>\n",
       "      <th>V28</th>\n",
       "      <th>Amount</th>\n",
       "      <th>Class</th>\n",
       "    </tr>\n",
       "  </thead>\n",
       "  <tbody>\n",
       "    <tr>\n",
       "      <th>0</th>\n",
       "      <td>0.0</td>\n",
       "      <td>-1.359807</td>\n",
       "      <td>-0.072781</td>\n",
       "      <td>2.536347</td>\n",
       "      <td>1.378155</td>\n",
       "      <td>-0.338321</td>\n",
       "      <td>0.462388</td>\n",
       "      <td>0.239599</td>\n",
       "      <td>0.098698</td>\n",
       "      <td>0.363787</td>\n",
       "      <td>...</td>\n",
       "      <td>-0.018307</td>\n",
       "      <td>0.277838</td>\n",
       "      <td>-0.110474</td>\n",
       "      <td>0.066928</td>\n",
       "      <td>0.128539</td>\n",
       "      <td>-0.189115</td>\n",
       "      <td>0.133558</td>\n",
       "      <td>-0.021053</td>\n",
       "      <td>149.62</td>\n",
       "      <td>0</td>\n",
       "    </tr>\n",
       "    <tr>\n",
       "      <th>1</th>\n",
       "      <td>0.0</td>\n",
       "      <td>1.191857</td>\n",
       "      <td>0.266151</td>\n",
       "      <td>0.166480</td>\n",
       "      <td>0.448154</td>\n",
       "      <td>0.060018</td>\n",
       "      <td>-0.082361</td>\n",
       "      <td>-0.078803</td>\n",
       "      <td>0.085102</td>\n",
       "      <td>-0.255425</td>\n",
       "      <td>...</td>\n",
       "      <td>-0.225775</td>\n",
       "      <td>-0.638672</td>\n",
       "      <td>0.101288</td>\n",
       "      <td>-0.339846</td>\n",
       "      <td>0.167170</td>\n",
       "      <td>0.125895</td>\n",
       "      <td>-0.008983</td>\n",
       "      <td>0.014724</td>\n",
       "      <td>2.69</td>\n",
       "      <td>0</td>\n",
       "    </tr>\n",
       "    <tr>\n",
       "      <th>2</th>\n",
       "      <td>1.0</td>\n",
       "      <td>-1.358354</td>\n",
       "      <td>-1.340163</td>\n",
       "      <td>1.773209</td>\n",
       "      <td>0.379780</td>\n",
       "      <td>-0.503198</td>\n",
       "      <td>1.800499</td>\n",
       "      <td>0.791461</td>\n",
       "      <td>0.247676</td>\n",
       "      <td>-1.514654</td>\n",
       "      <td>...</td>\n",
       "      <td>0.247998</td>\n",
       "      <td>0.771679</td>\n",
       "      <td>0.909412</td>\n",
       "      <td>-0.689281</td>\n",
       "      <td>-0.327642</td>\n",
       "      <td>-0.139097</td>\n",
       "      <td>-0.055353</td>\n",
       "      <td>-0.059752</td>\n",
       "      <td>378.66</td>\n",
       "      <td>0</td>\n",
       "    </tr>\n",
       "    <tr>\n",
       "      <th>3</th>\n",
       "      <td>1.0</td>\n",
       "      <td>-0.966272</td>\n",
       "      <td>-0.185226</td>\n",
       "      <td>1.792993</td>\n",
       "      <td>-0.863291</td>\n",
       "      <td>-0.010309</td>\n",
       "      <td>1.247203</td>\n",
       "      <td>0.237609</td>\n",
       "      <td>0.377436</td>\n",
       "      <td>-1.387024</td>\n",
       "      <td>...</td>\n",
       "      <td>-0.108300</td>\n",
       "      <td>0.005274</td>\n",
       "      <td>-0.190321</td>\n",
       "      <td>-1.175575</td>\n",
       "      <td>0.647376</td>\n",
       "      <td>-0.221929</td>\n",
       "      <td>0.062723</td>\n",
       "      <td>0.061458</td>\n",
       "      <td>123.50</td>\n",
       "      <td>0</td>\n",
       "    </tr>\n",
       "    <tr>\n",
       "      <th>4</th>\n",
       "      <td>2.0</td>\n",
       "      <td>-1.158233</td>\n",
       "      <td>0.877737</td>\n",
       "      <td>1.548718</td>\n",
       "      <td>0.403034</td>\n",
       "      <td>-0.407193</td>\n",
       "      <td>0.095921</td>\n",
       "      <td>0.592941</td>\n",
       "      <td>-0.270533</td>\n",
       "      <td>0.817739</td>\n",
       "      <td>...</td>\n",
       "      <td>-0.009431</td>\n",
       "      <td>0.798278</td>\n",
       "      <td>-0.137458</td>\n",
       "      <td>0.141267</td>\n",
       "      <td>-0.206010</td>\n",
       "      <td>0.502292</td>\n",
       "      <td>0.219422</td>\n",
       "      <td>0.215153</td>\n",
       "      <td>69.99</td>\n",
       "      <td>0</td>\n",
       "    </tr>\n",
       "  </tbody>\n",
       "</table>\n",
       "<p>5 rows × 31 columns</p>\n",
       "</div>"
      ]
     },
     "execution_count": 4,
     "metadata": {},
     "output_type": "execute_result"
    }
   ],
   "execution_count": 4
  },
  {
   "metadata": {
    "ExecuteTime": {
     "end_time": "2025-05-05T02:30:57.303624Z",
     "start_time": "2025-05-05T02:30:57.256985Z"
    }
   },
   "cell_type": "code",
   "source": [
    "# Split data into training/testing\n",
    "X = data.drop(\"Class\", axis=1).to_numpy()\n",
    "Y = data[\"Class\"].to_numpy()\n",
    "\n",
    "# Split the data into training and testing sets (80% train, 20% test)\n",
    "np.random.seed(42)  # For reproducibility\n",
    "training_data_mask = np.random.rand(len(data)) < 0.8\n",
    "X_train = X[training_data_mask]\n",
    "Y_train = Y[training_data_mask]\n",
    "X_test = X[~training_data_mask]\n",
    "Y_test = Y[~training_data_mask]"
   ],
   "id": "eee40d14d81d2954",
   "outputs": [],
   "execution_count": 5
  },
  {
   "metadata": {},
   "cell_type": "markdown",
   "source": "Kmeans Function Definitions",
   "id": "a1307d0fe39702c3"
  },
  {
   "metadata": {
    "ExecuteTime": {
     "end_time": "2025-05-05T02:31:02.407218Z",
     "start_time": "2025-05-05T02:30:57.328831Z"
    }
   },
   "cell_type": "code",
   "source": [
    "import numpy as np\n",
    "import matplotlib.pyplot as plt\n",
    "from sklearn.metrics import average_precision_score\n",
    "\n",
    "\n",
    "def compute_inertia(X, centroids):\n",
    "    labels = closest_centroid(X, centroids)\n",
    "    inertia = 0.0\n",
    "    for i in range(len(centroids)):\n",
    "        cluster_points = X[labels == i]\n",
    "        inertia += np.sum((cluster_points - centroids[i]) ** 2)\n",
    "    return inertia\n",
    "\n",
    "def elbow_method(X, k_range, max_iters=100):\n",
    "    inertias = []\n",
    "\n",
    "    for k in k_range:\n",
    "        centroids = kmeans(X, k=k, max_iters=max_iters)\n",
    "        inertia = compute_inertia(X, centroids)\n",
    "        inertias.append(inertia)\n",
    "        print(f\"k={k}, Inertia={inertia:.2f}\")\n",
    "\n",
    "    plt.figure(figsize=(8, 5))\n",
    "    plt.plot(list(k_range), inertias, 'bo-')\n",
    "    plt.xlabel('Number of Clusters (k)')\n",
    "    plt.ylabel('Inertia (Sum of Squared Distances)')\n",
    "    plt.title('Elbow Method For Optimal k')\n",
    "    plt.grid(True)\n",
    "    plt.show()\n",
    "\n",
    "def normalize(X):\n",
    "    \"\"\"Z-score normalization.\"\"\"\n",
    "    return (X - np.mean(X, axis=0)) / np.std(X, axis=0)\n",
    "\n",
    "def initialize_centroids(X, k):\n",
    "    \"\"\"Randomly choose k points from X as initial centroids.\"\"\"\n",
    "    indices = np.random.choice(X.shape[0], k, replace=False)\n",
    "    return X[indices]\n",
    "\n",
    "def closest_centroid(X, centroids):\n",
    "    \"\"\"Return index of closest centroid for each point in X.\"\"\"\n",
    "    distances = np.linalg.norm(X[:, np.newaxis] - centroids, axis=2)  # shape (n_samples, k)\n",
    "    return np.argmin(distances, axis=1)\n",
    "\n",
    "def kmeans(X, k=10, max_iters=100, tol=0.0001):\n",
    "    n_samples, n_features = X.shape\n",
    "    centroids = initialize_centroids(X, k)\n",
    "\n",
    "    for _ in range(max_iters):\n",
    "        labels = closest_centroid(X, centroids)\n",
    "\n",
    "        new_centroids = np.zeros_like(centroids)\n",
    "        for i in range(k):\n",
    "            points = X[labels == i]\n",
    "            if len(points) > 0:\n",
    "                new_centroids[i] = points.mean(axis=0)\n",
    "            else:\n",
    "                new_centroids[i] = X[np.random.choice(n_samples)]\n",
    "\n",
    "        if np.linalg.norm(centroids - new_centroids) < tol:\n",
    "            break\n",
    "\n",
    "        centroids = new_centroids\n",
    "\n",
    "    return centroids\n",
    "\n",
    "\n",
    "def detect_anomalies(X, centroids, threshold_quantile=0.995):\n",
    "    distances = np.min(np.linalg.norm(X[:, np.newaxis] - centroids, axis=2), axis=1)\n",
    "    threshold = np.quantile(distances, threshold_quantile)\n",
    "    return distances > threshold, distances, threshold\n",
    "\n",
    "def classification_report(y_true, y_pred, scores):\n",
    "    y_true = np.array(y_true)\n",
    "    y_pred = np.array(y_pred)\n",
    "\n",
    "    TP = np.sum((y_true == 1) & (y_pred == 1))\n",
    "    TN = np.sum((y_true == 0) & (y_pred == 0))\n",
    "    FP = np.sum((y_true == 0) & (y_pred == 1))\n",
    "    FN = np.sum((y_true == 1) & (y_pred == 0))\n",
    "\n",
    "    # Avoid divide-by-zero\n",
    "    precision = TP / (TP + FP) if (TP + FP) > 0 else 0.0\n",
    "    recall = TP / (TP + FN) if (TP + FN) > 0 else 0.0\n",
    "    f1 = 2 * precision * recall / (precision + recall) if (precision + recall) > 0 else 0.0\n",
    "    accuracy = (TP + TN) / (TP + TN + FP + FN)\n",
    "    auprc = average_precision_score(y_true, scores)\n",
    "\n",
    "\n",
    "    print(\"=== Classification Report ===\")\n",
    "    print(f\"Precision: {precision:.4f}\")\n",
    "    print(f\"Recall:    {recall:.4f}\")\n",
    "    print(f\"F1 Score:  {f1:.4f}\")\n",
    "    print(f\"Accuracy:  {accuracy:.4f}\")\n",
    "    print(f\"auprc:  {auprc:.4f}\")"
   ],
   "id": "5b751c55a04cf54f",
   "outputs": [],
   "execution_count": 6
  },
  {
   "metadata": {},
   "cell_type": "markdown",
   "source": "Find best K with elbow method",
   "id": "60a4ab93eb7361e8"
  },
  {
   "metadata": {
    "ExecuteTime": {
     "end_time": "2025-05-05T02:37:36.800280Z",
     "start_time": "2025-05-05T02:31:02.407218Z"
    }
   },
   "cell_type": "code",
   "source": [
    "# Normalize your train and test sets\n",
    "X_train_norm = normalize(X_train)\n",
    "X_test_norm = normalize(X_test)\n",
    "\n",
    "elbow_method(X_train_norm, k_range=range(5, 50, 5))"
   ],
   "id": "336b455c6997a6a4",
   "outputs": [
    {
     "name": "stdout",
     "output_type": "stream",
     "text": [
      "k=5, Inertia=6006146.55\n",
      "k=10, Inertia=5436152.25\n",
      "k=15, Inertia=4945500.48\n",
      "k=20, Inertia=4393828.44\n",
      "k=25, Inertia=4190820.60\n",
      "k=30, Inertia=4023038.47\n",
      "k=35, Inertia=3868861.68\n",
      "k=40, Inertia=3694230.91\n",
      "k=45, Inertia=3548714.57\n"
     ]
    },
    {
     "data": {
      "text/plain": [
       "<Figure size 800x500 with 1 Axes>"
      ],
      "image/png": "[encoded data removed]"
     },
     "metadata": {},
     "output_type": "display_data"
    }
   ],
   "execution_count": 7
  },
  {
   "metadata": {},
   "cell_type": "markdown",
   "source": "Run Kmeans and evaluation",
   "id": "14affaa96565364d"
  },
  {
   "metadata": {
    "ExecuteTime": {
     "end_time": "2025-05-05T02:38:50.396248Z",
     "start_time": "2025-05-05T02:37:36.824827Z"
    }
   },
   "cell_type": "code",
   "source": [
    "k = 25\n",
    "centroids = kmeans(X_train_norm, k=k, max_iters=100)\n",
    "\n",
    "fraud_predictions, test_distances, threshold = detect_anomalies(X_test_norm, centroids)\n",
    "classification_report(Y_test, fraud_predictions, test_distances)\n",
    "\n"
   ],
   "id": "2b996b985b0bedba",
   "outputs": [
    {
     "name": "stdout",
     "output_type": "stream",
     "text": [
      "=== Classification Report ===\n",
      "Precision: 0.1049\n",
      "Recall:    0.3488\n",
      "F1 Score:  0.1613\n",
      "Accuracy:  0.9945\n",
      "auprc:  0.0828\n"
     ]
    }
   ],
   "execution_count": 8
  }
 ],
 "metadata": {
  "kernelspec": {
   "display_name": "Python 3",
   "language": "python",
   "name": "python3"
  },
  "language_info": {
   "codemirror_mode": {
    "name": "ipython",
    "version": 2
   },
   "file_extension": ".py",
   "mimetype": "text/x-python",
   "name": "python",
   "nbconvert_exporter": "python",
   "pygments_lexer": "ipython2",
   "version": "2.7.6"
  }
 },
 "nbformat": 4,
 "nbformat_minor": 5
}

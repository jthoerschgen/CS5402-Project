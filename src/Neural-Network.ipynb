{
 "cells": [
  {
   "cell_type": "markdown",
   "id": "6ad957cc-0580-4c16-b2c8-95bf47c35a8f",
   "metadata": {},
   "source": [
    "# Neural Network Implementation\n",
    "\n",
    "Dataset: [Kaggle-Credit Card Fraud Dataset](https://paperswithcode.com/dataset/kaggle-credit-card-fraud-dataset)\n",
    "\n",
    "_Data has already undergone PCA and preprocessing to anonymize the data._\n",
    "\n",
    "The original classes for the data are:\n",
    "\n",
    "* Fraudulent Transaction: _+1_\n",
    "\n",
    "* Non-fraudulent Transaction: _0_"
   ]
  },
  {
   "cell_type": "code",
   "execution_count": 94,
   "id": "fdcc7e3c-e349-412f-8af2-44ac30e44f64",
   "metadata": {},
   "outputs": [],
   "source": [
    "import pandas as pd\n",
    "import numpy as np\n",
    "from sklearn.neural_network import MLPClassifier\n",
    "from sklearn.preprocessing import StandardScaler\n",
    "from imblearn.over_sampling import SMOTE"
   ]
  },
  {
   "cell_type": "code",
   "execution_count": 95,
   "id": "83573c12-16a1-49d6-9bfa-39b62353fcb7",
   "metadata": {},
   "outputs": [
    {
     "data": {
      "text/plain": [
       "(284807, 31)"
      ]
     },
     "execution_count": 95,
     "metadata": {},
     "output_type": "execute_result"
    }
   ],
   "source": [
    "data: pd.DataFrame = pd.read_csv(\"../creditcard.csv\")\n",
    "data[\"Class\"] = np.where(data[\"Class\"] <= 0, -1, 1)\n",
    "\n",
    "data.shape"
   ]
  },
  {
   "cell_type": "markdown",
   "id": "d9886402-6d02-493e-b464-bf2cb4d63b04",
   "metadata": {},
   "source": [
    "Preview the data"
   ]
  },
  {
   "cell_type": "code",
   "execution_count": 96,
   "id": "0a153b0b-b9d5-4937-90a7-d042e92aa55d",
   "metadata": {},
   "outputs": [
    {
     "data": {
      "text/html": [
       "<div>\n",
       "<style scoped>\n",
       "    .dataframe tbody tr th:only-of-type {\n",
       "        vertical-align: middle;\n",
       "    }\n",
       "\n",
       "    .dataframe tbody tr th {\n",
       "        vertical-align: top;\n",
       "    }\n",
       "\n",
       "    .dataframe thead th {\n",
       "        text-align: right;\n",
       "    }\n",
       "</style>\n",
       "<table border=\"1\" class=\"dataframe\">\n",
       "  <thead>\n",
       "    <tr style=\"text-align: right;\">\n",
       "      <th></th>\n",
       "      <th>Time</th>\n",
       "      <th>V1</th>\n",
       "      <th>V2</th>\n",
       "      <th>V3</th>\n",
       "      <th>V4</th>\n",
       "      <th>V5</th>\n",
       "      <th>V6</th>\n",
       "      <th>V7</th>\n",
       "      <th>V8</th>\n",
       "      <th>V9</th>\n",
       "      <th>...</th>\n",
       "      <th>V21</th>\n",
       "      <th>V22</th>\n",
       "      <th>V23</th>\n",
       "      <th>V24</th>\n",
       "      <th>V25</th>\n",
       "      <th>V26</th>\n",
       "      <th>V27</th>\n",
       "      <th>V28</th>\n",
       "      <th>Amount</th>\n",
       "      <th>Class</th>\n",
       "    </tr>\n",
       "  </thead>\n",
       "  <tbody>\n",
       "    <tr>\n",
       "      <th>0</th>\n",
       "      <td>0.0</td>\n",
       "      <td>-1.359807</td>\n",
       "      <td>-0.072781</td>\n",
       "      <td>2.536347</td>\n",
       "      <td>1.378155</td>\n",
       "      <td>-0.338321</td>\n",
       "      <td>0.462388</td>\n",
       "      <td>0.239599</td>\n",
       "      <td>0.098698</td>\n",
       "      <td>0.363787</td>\n",
       "      <td>...</td>\n",
       "      <td>-0.018307</td>\n",
       "      <td>0.277838</td>\n",
       "      <td>-0.110474</td>\n",
       "      <td>0.066928</td>\n",
       "      <td>0.128539</td>\n",
       "      <td>-0.189115</td>\n",
       "      <td>0.133558</td>\n",
       "      <td>-0.021053</td>\n",
       "      <td>149.62</td>\n",
       "      <td>-1</td>\n",
       "    </tr>\n",
       "    <tr>\n",
       "      <th>1</th>\n",
       "      <td>0.0</td>\n",
       "      <td>1.191857</td>\n",
       "      <td>0.266151</td>\n",
       "      <td>0.166480</td>\n",
       "      <td>0.448154</td>\n",
       "      <td>0.060018</td>\n",
       "      <td>-0.082361</td>\n",
       "      <td>-0.078803</td>\n",
       "      <td>0.085102</td>\n",
       "      <td>-0.255425</td>\n",
       "      <td>...</td>\n",
       "      <td>-0.225775</td>\n",
       "      <td>-0.638672</td>\n",
       "      <td>0.101288</td>\n",
       "      <td>-0.339846</td>\n",
       "      <td>0.167170</td>\n",
       "      <td>0.125895</td>\n",
       "      <td>-0.008983</td>\n",
       "      <td>0.014724</td>\n",
       "      <td>2.69</td>\n",
       "      <td>-1</td>\n",
       "    </tr>\n",
       "    <tr>\n",
       "      <th>2</th>\n",
       "      <td>1.0</td>\n",
       "      <td>-1.358354</td>\n",
       "      <td>-1.340163</td>\n",
       "      <td>1.773209</td>\n",
       "      <td>0.379780</td>\n",
       "      <td>-0.503198</td>\n",
       "      <td>1.800499</td>\n",
       "      <td>0.791461</td>\n",
       "      <td>0.247676</td>\n",
       "      <td>-1.514654</td>\n",
       "      <td>...</td>\n",
       "      <td>0.247998</td>\n",
       "      <td>0.771679</td>\n",
       "      <td>0.909412</td>\n",
       "      <td>-0.689281</td>\n",
       "      <td>-0.327642</td>\n",
       "      <td>-0.139097</td>\n",
       "      <td>-0.055353</td>\n",
       "      <td>-0.059752</td>\n",
       "      <td>378.66</td>\n",
       "      <td>-1</td>\n",
       "    </tr>\n",
       "    <tr>\n",
       "      <th>3</th>\n",
       "      <td>1.0</td>\n",
       "      <td>-0.966272</td>\n",
       "      <td>-0.185226</td>\n",
       "      <td>1.792993</td>\n",
       "      <td>-0.863291</td>\n",
       "      <td>-0.010309</td>\n",
       "      <td>1.247203</td>\n",
       "      <td>0.237609</td>\n",
       "      <td>0.377436</td>\n",
       "      <td>-1.387024</td>\n",
       "      <td>...</td>\n",
       "      <td>-0.108300</td>\n",
       "      <td>0.005274</td>\n",
       "      <td>-0.190321</td>\n",
       "      <td>-1.175575</td>\n",
       "      <td>0.647376</td>\n",
       "      <td>-0.221929</td>\n",
       "      <td>0.062723</td>\n",
       "      <td>0.061458</td>\n",
       "      <td>123.50</td>\n",
       "      <td>-1</td>\n",
       "    </tr>\n",
       "    <tr>\n",
       "      <th>4</th>\n",
       "      <td>2.0</td>\n",
       "      <td>-1.158233</td>\n",
       "      <td>0.877737</td>\n",
       "      <td>1.548718</td>\n",
       "      <td>0.403034</td>\n",
       "      <td>-0.407193</td>\n",
       "      <td>0.095921</td>\n",
       "      <td>0.592941</td>\n",
       "      <td>-0.270533</td>\n",
       "      <td>0.817739</td>\n",
       "      <td>...</td>\n",
       "      <td>-0.009431</td>\n",
       "      <td>0.798278</td>\n",
       "      <td>-0.137458</td>\n",
       "      <td>0.141267</td>\n",
       "      <td>-0.206010</td>\n",
       "      <td>0.502292</td>\n",
       "      <td>0.219422</td>\n",
       "      <td>0.215153</td>\n",
       "      <td>69.99</td>\n",
       "      <td>-1</td>\n",
       "    </tr>\n",
       "  </tbody>\n",
       "</table>\n",
       "<p>5 rows × 31 columns</p>\n",
       "</div>"
      ],
      "text/plain": [
       "   Time        V1        V2        V3        V4        V5        V6        V7  \\\n",
       "0   0.0 -1.359807 -0.072781  2.536347  1.378155 -0.338321  0.462388  0.239599   \n",
       "1   0.0  1.191857  0.266151  0.166480  0.448154  0.060018 -0.082361 -0.078803   \n",
       "2   1.0 -1.358354 -1.340163  1.773209  0.379780 -0.503198  1.800499  0.791461   \n",
       "3   1.0 -0.966272 -0.185226  1.792993 -0.863291 -0.010309  1.247203  0.237609   \n",
       "4   2.0 -1.158233  0.877737  1.548718  0.403034 -0.407193  0.095921  0.592941   \n",
       "\n",
       "         V8        V9  ...       V21       V22       V23       V24       V25  \\\n",
       "0  0.098698  0.363787  ... -0.018307  0.277838 -0.110474  0.066928  0.128539   \n",
       "1  0.085102 -0.255425  ... -0.225775 -0.638672  0.101288 -0.339846  0.167170   \n",
       "2  0.247676 -1.514654  ...  0.247998  0.771679  0.909412 -0.689281 -0.327642   \n",
       "3  0.377436 -1.387024  ... -0.108300  0.005274 -0.190321 -1.175575  0.647376   \n",
       "4 -0.270533  0.817739  ... -0.009431  0.798278 -0.137458  0.141267 -0.206010   \n",
       "\n",
       "        V26       V27       V28  Amount  Class  \n",
       "0 -0.189115  0.133558 -0.021053  149.62     -1  \n",
       "1  0.125895 -0.008983  0.014724    2.69     -1  \n",
       "2 -0.139097 -0.055353 -0.059752  378.66     -1  \n",
       "3 -0.221929  0.062723  0.061458  123.50     -1  \n",
       "4  0.502292  0.219422  0.215153   69.99     -1  \n",
       "\n",
       "[5 rows x 31 columns]"
      ]
     },
     "execution_count": 96,
     "metadata": {},
     "output_type": "execute_result"
    }
   ],
   "source": [
    "data.head()"
   ]
  },
  {
   "cell_type": "markdown",
   "id": "ba206b52-f6cd-4a6d-93d6-c2ec30020543",
   "metadata": {},
   "source": [
    "### Split the Data for Training and Testing"
   ]
  },
  {
   "cell_type": "code",
   "execution_count": 97,
   "id": "88e32022-d437-4d32-bb0b-6d70fd462af0",
   "metadata": {},
   "outputs": [],
   "source": [
    "# Split data into training/testing\n",
    "training_data_mask: np.ndarray = np.random.rand(len(data)) < 0.8\n",
    "\n",
    "train: pd.DataFrame = data[training_data_mask]\n",
    "test: pd.DataFrame = data[~training_data_mask]\n",
    "\n",
    "X_train = train.drop(\"Class\", axis=1).to_numpy()\n",
    "y_train = train[\"Class\"].to_numpy()\n",
    "X_test = test.drop(\"Class\", axis=1).to_numpy()\n",
    "y_test = test[\"Class\"].to_numpy()"
   ]
  },
  {
   "cell_type": "markdown",
   "id": "e8c4b111-0aa5-4b22-b5ac-1a102f630d52",
   "metadata": {},
   "source": [
    "### Scale the Features"
   ]
  },
  {
   "cell_type": "code",
   "execution_count": 98,
   "id": "a142b4f9-698c-4210-84c9-0c3b758b7f81",
   "metadata": {},
   "outputs": [],
   "source": [
    "scaler = StandardScaler()\n",
    "X_train_scaled = scaler.fit_transform(X_train)\n",
    "X_test_scaled = scaler.transform(X_test)"
   ]
  },
  {
   "cell_type": "markdown",
   "id": "983518b2-b9ae-4f08-84e2-41625e1d4146",
   "metadata": {},
   "source": [
    "### Model Evaluation Metrics"
   ]
  },
  {
   "cell_type": "code",
   "execution_count": 99,
   "id": "93394e1f-79ef-4610-937a-79e41ce5c4d3",
   "metadata": {},
   "outputs": [],
   "source": [
    "def evaluate(predictions) -> tuple[tuple[float, float, float, float], tuple[float, float, float]]:\n",
    "    TP = ((predictions == 1) & (test[\"Class\"] == 1)).sum()\n",
    "    TN = ((predictions == -1) & (test[\"Class\"] == -1)).sum()\n",
    "    FP = ((predictions == 1) & (test[\"Class\"] == -1)).sum()\n",
    "    FN = ((predictions == -1) & (test[\"Class\"] == 1)).sum()\n",
    "\n",
    "    precision: float = np.nan\n",
    "    if (TP + FP) > 0:\n",
    "        precision = TP / (TP + FP)\n",
    "\n",
    "    recall: float = np.nan\n",
    "    if (TP + FN) > 0:\n",
    "        recall = TP / (TP + FN)\n",
    "\n",
    "    f1: float = np.nan\n",
    "    if (precision + recall) > 0:\n",
    "        f1 = 2 * (precision * recall) / (precision + recall)\n",
    "\n",
    "    print(f\"Actual Fraud (Class=1):      {(test['Class'] == 1).sum()}\")\n",
    "    print(f\"Actual Non-Fraud (Class=-1): {(test['Class'] == -1).sum()}\")\n",
    "    print()\n",
    "    print(f\"TP: {TP}\")\n",
    "    print(f\"TN: {TN}\")\n",
    "    print(f\"FP: {FP}\")\n",
    "    print(f\"FN: {FN}\")\n",
    "    print()\n",
    "    print(f\"PRECISION: {precision}\")\n",
    "    print(f\"RECALL:    {recall}\")\n",
    "    print(f\"F1-SCORE:  {f1}\")\n",
    "    print()\n",
    "\n",
    "    return (TP, TN, FP, FN), (precision, recall, f1)"
   ]
  },
  {
   "cell_type": "markdown",
   "id": "e555d7b6-10a1-4cd3-a546-2735da3d8e96",
   "metadata": {},
   "source": [
    "## Initialize and Train the Neural Network"
   ]
  },
  {
   "cell_type": "code",
   "execution_count": null,
   "id": "2db761ea-911a-4dbf-b1cc-e1a7191dc6d9",
   "metadata": {},
   "outputs": [],
   "source": [
    "#clf = MLPClassifier(solver='lbfgs', alpha=1e-5, hidden_layer_sizes=(5, 2), random_state=1)\n",
    "#class_weights = {0: 1, 1: len(y_train[y_train == 0]) / len(y_train[y_train == 1])}\n",
    "\n",
    "# We oversample because of very imbalanced dataset\n",
    "smote = SMOTE(random_state=1)\n",
    "X_train_balanced, y_train_balanced = smote.fit_resample(X_train_scaled, y_train)\n",
    "\n",
    "clf = MLPClassifier(\n",
    "    hidden_layer_sizes=(100, 50),  # Two hidden layers: 100 and 50 neurons\n",
    "    activation=\"relu\",\n",
    "    #solver=\"adam\",\n",
    "    solver=\"lbfgs\",\n",
    "    max_iter=200,\n",
    "    random_state=1,\n",
    "    #class_weight=class_weights,\n",
    ")\n",
    "\n",
    "#clf.fit(X_train, y_train)\n",
    "clf.fit(X_train_balanced, y_train_balanced)"
   ]
  },
  {
   "cell_type": "markdown",
   "id": "f4a58ebc-cd8e-4471-a2e7-542eb443652c",
   "metadata": {},
   "source": [
    "### Make Predictions"
   ]
  },
  {
   "cell_type": "code",
   "execution_count": null,
   "id": "2de10281-1843-4064-9782-8ec45bf11016",
   "metadata": {},
   "outputs": [],
   "source": [
    "# Predict on test set\n",
    "y_pred = clf.predict(X_test_scaled)"
   ]
  },
  {
   "cell_type": "markdown",
   "id": "41183822-2939-4cd0-af70-df5c0dc1db79",
   "metadata": {},
   "source": [
    "### Get Evaluation Metrics"
   ]
  },
  {
   "cell_type": "code",
   "execution_count": 102,
   "id": "95be052f-558a-49d2-8417-6b008feae547",
   "metadata": {},
   "outputs": [
    {
     "name": "stdout",
     "output_type": "stream",
     "text": [
      "Actual Fraud (Class=1):      103\n",
      "Actual Non-Fraud (Class=-1): 56872\n",
      "\n",
      "TP: 0\n",
      "TN: 56872\n",
      "FP: 0\n",
      "FN: 103\n",
      "\n",
      "PRECISION: nan\n",
      "RECALL:    0.0\n",
      "F1-SCORE:  nan\n",
      "\n"
     ]
    }
   ],
   "source": [
    "print(\"Accuracy:\", accuracy_score(y_test, y_pred))\n",
    "print(\"\\nClassification Report:\")\n",
    "print(classification_report(y_test, y_pred, target_names=[\"Non-Fraud\", \"Fraud\"]))\n",
    "\n",
    "from sklearn.metrics import precision_score, recall_score, f1_score\n",
    "precision = precision_score(y_test, y_pred)\n",
    "recall = recall_score(y_test, y_pred)\n",
    "f1 = f1_score(y_test, y_pred)\n",
    "print(f\"\\nManual Metrics for Fraud Class:\")\n",
    "print(f\"Precision: {precision:.4f}\")\n",
    "print(f\"Recall: {recall:.4f}\")\n",
    "print(f\"F1-Score: {f1:.4f}\")\n",
    "\n",
    "#(TP, TN, FP, FN), (precision, recall, f1) = evaluate(y_pred)"
   ]
  },
  {
   "cell_type": "code",
   "execution_count": null,
   "id": "22dee21a-f131-430b-bace-a5f1fb49f448",
   "metadata": {},
   "outputs": [],
   "source": []
  }
 ],
 "metadata": {
  "kernelspec": {
   "display_name": "Python 3 (ipykernel)",
   "language": "python",
   "name": "python3"
  },
  "language_info": {
   "codemirror_mode": {
    "name": "ipython",
    "version": 3
   },
   "file_extension": ".py",
   "mimetype": "text/x-python",
   "name": "python",
   "nbconvert_exporter": "python",
   "pygments_lexer": "ipython3",
   "version": "3.13.3"
  }
 },
 "nbformat": 4,
 "nbformat_minor": 5
}
